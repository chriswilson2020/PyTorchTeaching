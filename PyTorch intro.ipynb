{
 "cells": [
  {
   "cell_type": "markdown",
   "id": "5c4adfc5-122d-4c99-8fdd-bdfd8676588e",
   "metadata": {},
   "source": [
    "# An introduction to PyTorch and Tensors"
   ]
  },
  {
   "cell_type": "code",
   "execution_count": 1,
   "id": "3ab2af07-4b8b-46e7-bfff-a9dce0c65e44",
   "metadata": {},
   "outputs": [
    {
     "name": "stdout",
     "output_type": "stream",
     "text": [
      "2.2.0+cu121\n"
     ]
    }
   ],
   "source": [
    "# import the needed librareis and check PyTorch Version\n",
    "import torch\n",
    "import numpy as np\n",
    "import pandas as pd\n",
    "import matplotlib.pyplot as plt\n",
    "\n",
    "print(torch.__version__)"
   ]
  },
  {
   "cell_type": "markdown",
   "id": "7b266ea2-df52-4b4a-a899-dc7367f2c084",
   "metadata": {},
   "source": [
    "## What are tensors?\n",
    "In order to understand tensors we need to take a step back and define a few other concepts such as scalar, vector and matrix.\n",
    "* A scalar: is a single number.\n",
    "* A vector: is a line of numbers with direction.\n",
    "* A matrix: is a table of numbers.\n",
    "* A tensor is a multi-dimensional container for numbers, extending beyond the concept of a matrix.\n",
    "\n",
    "Therefore **Tensor**s are like the next level up from matrices. They can have any number of dimensions, making them a very flexible way to describe things that are too complex for scalars, vectors, and matrices. A simple way to understand a tensor is to think of it as a container that can hold scalars, vectors, and matrices in a way that can have many layers of depth.\n",
    "\n",
    "*For example, the colors in a digital image can be represented as a tensor, where each color (red, green, blue) at each pixel is a number in the tensor.*\n",
    "\n",
    "<img src=\"./Images/Scalar-Vector-Matrix-Tensor.png\" alt=\"Scalar Vector Matrix Tensor Image\" />\n",
    "\n",
    "All of the above can be held in a tensor of varying dimensionality lets explore that below."
   ]
  },
  {
   "cell_type": "code",
   "execution_count": 4,
   "id": "8e3f15ed-9031-415c-ade5-753da95ccc89",
   "metadata": {},
   "outputs": [],
   "source": [
    "# First lets define some tensors\n",
    "\n",
    "# Scalar\n",
    "scalar = torch.tensor(7)\n",
    "\n",
    "# Vector\n",
    "vector = torch.tensor([7,7])\n",
    "\n",
    "# Matrix\n",
    "matrix = torch.tensor([[7,8],[9, 10]])\n",
    "\n",
    "# Tensor\n",
    "tensor = torch.tensor([[[1,2,3],[3,6,9],[2,4,5]]])\n"
   ]
  },
  {
   "cell_type": "code",
   "execution_count": 15,
   "id": "1fb0968d-43c9-44a1-8e69-c4ad0bcf266d",
   "metadata": {},
   "outputs": [
    {
     "name": "stdout",
     "output_type": "stream",
     "text": [
      "Our scalar has 0 dimensions\n",
      "Our vector has 1 dimension\n",
      "Our matrix has 2 dimensions\n",
      "Our tensor has 3 dimensions\n"
     ]
    }
   ],
   "source": [
    "print(f'Our scalar has {scalar.ndim} dimensions\\nOur vector has {vector.ndim} dimension\\nOur matrix has {matrix.ndim} dimensions\\nOur tensor has {tensor.ndim} dimensions')"
   ]
  },
  {
   "cell_type": "markdown",
   "id": "b2252e00-38eb-4657-974e-23e55097ebce",
   "metadata": {},
   "source": [
    "What does that mean when all of them are translated in to tensors? Well lets use some python to find out:"
   ]
  },
  {
   "cell_type": "code",
   "execution_count": 16,
   "id": "10cc22bb-8b3a-4d72-a7f4-a19a635e7277",
   "metadata": {},
   "outputs": [
    {
     "name": "stdout",
     "output_type": "stream",
     "text": [
      "Our scalar has the shape torch.Size([])\n",
      "Our vector has the shape torch.Size([2])\n",
      "Our matrix has the shape torch.Size([2, 2])\n",
      "Our tensor has the shape torch.Size([1, 3, 3])\n"
     ]
    }
   ],
   "source": [
    "print(f'Our scalar has the shape {scalar.shape}\\nOur vector has the shape {vector.shape}\\nOur matrix has the shape {matrix.shape}\\nOur tensor has the shape {tensor.shape}')"
   ]
  },
  {
   "cell_type": "markdown",
   "id": "d6502c70-bbd2-4386-a81e-9ccfb5e1d07b",
   "metadata": {},
   "source": [
    "* **Scalar (torch.Size([]))**: This represents a scalar, which is a single number. The empty brackets [] indicate that there are no dimensions, just one value. In PyTorch, even a single number is considered a tensor, but with no dimensions.\n",
    "* **Vector (torch.Size([2]))**: This shape indicates a vector with 2 elements. The number inside the brackets [2] tells you the length of the vector. So, this is a list of 2 numbers, which can represent something with magnitude and direction in a 2-dimensional space.\n",
    "* **Matrix (torch.Size([2, 2]))**: This shape describes a matrix with 2 rows and 2 columns. The numbers inside the brackets [2, 2] show the matrix's dimensions. You can think of this as a table or grid that contains 4 numbers in total, arranged in 2 rows and 2 columns.\n",
    "* **Tensor (torch.Size([1, 3, 3]))**: This shape is for a tensor that has 3 dimensions. The numbers [1, 3, 3] tell you the size of each dimension. This particular tensor can be thought of as having 1 layer, where each layer contains a 3x3 matrix. It's like a book with only 1 page, and on that page, there's a grid of 3 rows and 3 columns."
   ]
  },
  {
   "cell_type": "markdown",
   "id": "d9c9e4df-1285-4bb6-9d72-04ac4ec3c3dd",
   "metadata": {},
   "source": [
    "## Random tensors\n",
    "Random tensors are important in machine learning.  Because many neural networks start with tensors full of random numbers then they adjust those random numbers to better represent the data that they are trying to model. \n",
    "\n",
    "Very simplistically this is how they work:\n",
    "`Start with random numbers -> look at the data -> update the random numbers -> look at the data again -> update the randome numbers.`\n",
    "\n",
    "Lets explore creating a tensor filled with random numbers in PyTorch:"
   ]
  },
  {
   "cell_type": "code",
   "execution_count": 19,
   "id": "7b501a74-56c3-491b-93a0-afbe61d800b4",
   "metadata": {},
   "outputs": [
    {
     "name": "stdout",
     "output_type": "stream",
     "text": [
      "Here we have created a tensor of 2 dimensions and of shape torch.Size([3, 4])\n"
     ]
    }
   ],
   "source": [
    "print(f'Here we have created a tensor of {random_tensor.ndim} dimensions and of shape {random_tensor.shape}')"
   ]
  },
  {
   "cell_type": "code",
   "execution_count": 18,
   "id": "f25fda1b-53eb-4181-9c4d-db186bd15638",
   "metadata": {},
   "outputs": [
    {
     "data": {
      "text/plain": [
       "tensor([[0.8642, 0.5504, 0.0658, 0.9212],\n",
       "        [0.8350, 0.6604, 0.2170, 0.1070],\n",
       "        [0.4252, 0.2398, 0.4214, 0.7776]])"
      ]
     },
     "execution_count": 18,
     "metadata": {},
     "output_type": "execute_result"
    }
   ],
   "source": [
    "# Create a tensor filled with randome numbers of size 3 x 4\n",
    "random_tensor = torch.rand(3,4)\n",
    "random_tensor"
   ]
  },
  {
   "cell_type": "markdown",
   "id": "c6153950-1fec-4de4-bc4d-c691efc87b1d",
   "metadata": {},
   "source": [
    "We can make larger and multi-dimensional tensors also:"
   ]
  },
  {
   "cell_type": "code",
   "execution_count": 20,
   "id": "c2def175-a5a9-4c92-bf0b-564edd4802ed",
   "metadata": {},
   "outputs": [
    {
     "data": {
      "text/plain": [
       "tensor([[[0.9972, 0.4375, 0.8007, 0.0257, 0.7878, 0.6261, 0.6823, 0.2414,\n",
       "          0.7736, 0.8829],\n",
       "         [0.7341, 0.1779, 0.2873, 0.5280, 0.8427, 0.3950, 0.3152, 0.9940,\n",
       "          0.5507, 0.3117],\n",
       "         [0.0020, 0.1574, 0.1020, 0.5805, 0.9213, 0.5165, 0.6973, 0.3236,\n",
       "          0.4469, 0.4705],\n",
       "         [0.2569, 0.8970, 0.4913, 0.7579, 0.2204, 0.6195, 0.4873, 0.4412,\n",
       "          0.9604, 0.7719],\n",
       "         [0.2790, 0.2687, 0.8167, 0.9973, 0.7488, 0.6443, 0.6540, 0.7764,\n",
       "          0.1999, 0.8666],\n",
       "         [0.1039, 0.3868, 0.4793, 0.3949, 0.5854, 0.7829, 0.0241, 0.6927,\n",
       "          0.9757, 0.2450],\n",
       "         [0.1075, 0.9201, 0.4762, 0.2821, 0.0881, 0.8523, 0.2073, 0.6401,\n",
       "          0.5034, 0.8078],\n",
       "         [0.3503, 0.3018, 0.3794, 0.8251, 0.1291, 0.9127, 0.8098, 0.1972,\n",
       "          0.9213, 0.2583],\n",
       "         [0.4588, 0.3679, 0.7099, 0.1036, 0.9696, 0.7534, 0.1193, 0.4321,\n",
       "          0.7916, 0.8649],\n",
       "         [0.2468, 0.9902, 0.0660, 0.1937, 0.4037, 0.3572, 0.7999, 0.3999,\n",
       "          0.3380, 0.6230]]])"
      ]
     },
     "execution_count": 20,
     "metadata": {},
     "output_type": "execute_result"
    }
   ],
   "source": [
    "random_tensor = torch.rand(1,10,10)\n",
    "random_tensor"
   ]
  },
  {
   "cell_type": "code",
   "execution_count": 21,
   "id": "27ff89ba-a3aa-4f3b-bd11-6996be7defaf",
   "metadata": {},
   "outputs": [
    {
     "name": "stdout",
     "output_type": "stream",
     "text": [
      "Here we have created a tensor of 3 dimensions and of shape torch.Size([1, 10, 10])\n"
     ]
    }
   ],
   "source": [
    "print(f'Here we have created a tensor of {random_tensor.ndim} dimensions and of shape {random_tensor.shape}')"
   ]
  },
  {
   "cell_type": "code",
   "execution_count": 23,
   "id": "ea81b767-33de-4d3a-b097-7a582ab26da5",
   "metadata": {},
   "outputs": [
    {
     "data": {
      "text/plain": [
       "tensor([[[0.7098, 0.0710, 0.4738, 0.5933, 0.1720, 0.0855, 0.2142, 0.5943,\n",
       "          0.4354, 0.4134],\n",
       "         [0.7597, 0.8588, 0.4299, 0.9546, 0.9550, 0.2900, 0.1761, 0.1618,\n",
       "          0.0273, 0.4046],\n",
       "         [0.1886, 0.2542, 0.0730, 0.9392, 0.3261, 0.7835, 0.6379, 0.8070,\n",
       "          0.3404, 0.2625],\n",
       "         [0.0241, 0.3867, 0.8074, 0.9284, 0.5520, 0.9403, 0.7983, 0.3739,\n",
       "          0.0700, 0.6273],\n",
       "         [0.0306, 0.8675, 0.6679, 0.9613, 0.0602, 0.4383, 0.7797, 0.2431,\n",
       "          0.1429, 0.8274],\n",
       "         [0.3915, 0.7344, 0.6699, 0.0293, 0.3863, 0.2913, 0.8673, 0.7184,\n",
       "          0.5454, 0.7647],\n",
       "         [0.5184, 0.2849, 0.6915, 0.5468, 0.9505, 0.6770, 0.5271, 0.4215,\n",
       "          0.3268, 0.9618],\n",
       "         [0.8065, 0.8280, 0.4248, 0.8596, 0.5074, 0.7614, 0.7524, 0.5292,\n",
       "          0.5049, 0.2402],\n",
       "         [0.8879, 0.7586, 0.6921, 0.5886, 0.1960, 0.0073, 0.7049, 0.0093,\n",
       "          0.9619, 0.2911],\n",
       "         [0.2087, 0.4803, 0.3824, 0.6428, 0.3593, 0.0888, 0.0334, 0.0723,\n",
       "          0.8935, 0.0277]],\n",
       "\n",
       "        [[0.7441, 0.9650, 0.7538, 0.4831, 0.7089, 0.1563, 0.4540, 0.5156,\n",
       "          0.7325, 0.3863],\n",
       "         [0.5731, 0.9902, 0.2345, 0.3553, 0.1513, 0.9960, 0.9038, 0.4301,\n",
       "          0.2439, 0.5433],\n",
       "         [0.3129, 0.3912, 0.3007, 0.3054, 0.4356, 0.7759, 0.3704, 0.0091,\n",
       "          0.2095, 0.9041],\n",
       "         [0.8241, 0.4286, 0.6706, 0.0984, 0.4420, 0.5645, 0.5271, 0.0955,\n",
       "          0.4149, 0.4451],\n",
       "         [0.3508, 0.4142, 0.0488, 0.0356, 0.9821, 0.6151, 0.4494, 0.9148,\n",
       "          0.9847, 0.6942],\n",
       "         [0.2407, 0.2662, 0.0751, 0.2356, 0.1711, 0.8680, 0.0710, 0.8394,\n",
       "          0.0492, 0.5400],\n",
       "         [0.2788, 0.3682, 0.3313, 0.4027, 0.2204, 0.2078, 0.1686, 0.3921,\n",
       "          0.5565, 0.6930],\n",
       "         [0.8493, 0.5685, 0.4275, 0.7883, 0.1376, 0.9550, 0.1235, 0.4077,\n",
       "          0.2397, 0.1749],\n",
       "         [0.4192, 0.6528, 0.3403, 0.9665, 0.5730, 0.4126, 0.3610, 0.1255,\n",
       "          0.9048, 0.0479],\n",
       "         [0.6724, 0.0978, 0.5220, 0.1457, 0.9869, 0.6091, 0.8648, 0.5042,\n",
       "          0.4026, 0.4758]],\n",
       "\n",
       "        [[0.4514, 0.9507, 0.2073, 0.3848, 0.3115, 0.6371, 0.4918, 0.4121,\n",
       "          0.1406, 0.6224],\n",
       "         [0.7089, 0.5811, 0.3664, 0.8870, 0.2160, 0.8315, 0.3607, 0.2922,\n",
       "          0.3408, 0.8848],\n",
       "         [0.3869, 0.2277, 0.3070, 0.3072, 0.3584, 0.6377, 0.6813, 0.4974,\n",
       "          0.6122, 0.6429],\n",
       "         [0.0602, 0.8577, 0.6341, 0.6233, 0.5871, 0.7110, 0.1724, 0.5467,\n",
       "          0.1753, 0.7169],\n",
       "         [0.0702, 0.2748, 0.1041, 0.0229, 0.5952, 0.1932, 0.4060, 0.5353,\n",
       "          0.3714, 0.2241],\n",
       "         [0.9914, 0.6354, 0.0080, 0.5160, 0.5807, 0.1329, 0.4381, 0.9667,\n",
       "          0.4078, 0.2877],\n",
       "         [0.8214, 0.6774, 0.9095, 0.5273, 0.8359, 0.4458, 0.1232, 0.1799,\n",
       "          0.7133, 0.2770],\n",
       "         [0.4050, 0.8006, 0.1651, 0.3015, 0.9521, 0.7624, 0.1350, 0.3253,\n",
       "          0.8367, 0.5636],\n",
       "         [0.2702, 0.1585, 0.9435, 0.8403, 0.5248, 0.1681, 0.3823, 0.7157,\n",
       "          0.0640, 0.7661],\n",
       "         [0.9754, 0.2098, 0.2728, 0.7934, 0.3084, 0.9793, 0.0770, 0.7980,\n",
       "          0.0608, 0.2875]],\n",
       "\n",
       "        [[0.1772, 0.6808, 0.6804, 0.5923, 0.2102, 0.3376, 0.0991, 0.0853,\n",
       "          0.0218, 0.8359],\n",
       "         [0.6410, 0.1577, 0.3846, 0.2954, 0.1608, 0.1903, 0.2140, 0.5674,\n",
       "          0.8054, 0.5378],\n",
       "         [0.8912, 0.2395, 0.5060, 0.1870, 0.2376, 0.2241, 0.7769, 0.3061,\n",
       "          0.0245, 0.1954],\n",
       "         [0.0647, 0.4416, 0.0580, 0.0845, 0.6553, 0.7693, 0.7342, 0.6349,\n",
       "          0.3817, 0.9563],\n",
       "         [0.7809, 0.8081, 0.6017, 0.8215, 0.6506, 0.9973, 0.0335, 0.9534,\n",
       "          0.0414, 0.7004],\n",
       "         [0.0532, 0.4202, 0.2001, 0.9840, 0.0549, 0.1333, 0.2139, 0.5399,\n",
       "          0.3782, 0.3204],\n",
       "         [0.3895, 0.0957, 0.4399, 0.1019, 0.1467, 0.3748, 0.7590, 0.2494,\n",
       "          0.2127, 0.4516],\n",
       "         [0.1388, 0.6402, 0.5585, 0.1282, 0.5693, 0.1617, 0.9867, 0.2783,\n",
       "          0.6310, 0.6361],\n",
       "         [0.1790, 0.6071, 0.2660, 0.5690, 0.3751, 0.0639, 0.9345, 0.3775,\n",
       "          0.6248, 0.7071],\n",
       "         [0.5462, 0.6018, 0.3942, 0.6173, 0.4183, 0.6869, 0.1622, 0.0508,\n",
       "          0.4348, 0.2836]],\n",
       "\n",
       "        [[0.3103, 0.4321, 0.6991, 0.9343, 0.6945, 0.2717, 0.9737, 0.6244,\n",
       "          0.6106, 0.8224],\n",
       "         [0.9737, 0.7833, 0.1089, 0.0040, 0.5764, 0.8875, 0.7876, 0.4335,\n",
       "          0.0904, 0.0283],\n",
       "         [0.6228, 0.2263, 0.7708, 0.6370, 0.2334, 0.7141, 0.6392, 0.0560,\n",
       "          0.2680, 0.6812],\n",
       "         [0.3009, 0.7135, 0.6915, 0.3614, 0.3695, 0.5261, 0.6805, 0.2289,\n",
       "          0.4259, 0.5627],\n",
       "         [0.2402, 0.5011, 0.6717, 0.2940, 0.2103, 0.9538, 0.1710, 0.8899,\n",
       "          0.0971, 0.4565],\n",
       "         [0.6887, 0.1122, 0.5567, 0.8106, 0.7345, 0.3884, 0.0060, 0.4914,\n",
       "          0.9016, 0.6853],\n",
       "         [0.1610, 0.9831, 0.1779, 0.0573, 0.2200, 0.0298, 0.3902, 0.5336,\n",
       "          0.6325, 0.6260],\n",
       "         [0.7209, 0.6979, 0.5110, 0.3813, 0.5029, 0.3353, 0.9440, 0.2557,\n",
       "          0.4695, 0.7458],\n",
       "         [0.0192, 0.8944, 0.2869, 0.3972, 0.5845, 0.6181, 0.6460, 0.6960,\n",
       "          0.4860, 0.8088],\n",
       "         [0.7897, 0.8056, 0.2196, 0.4385, 0.6595, 0.8275, 0.1462, 0.3519,\n",
       "          0.2100, 0.0849]],\n",
       "\n",
       "        [[0.0843, 0.8146, 0.8859, 0.7967, 0.5864, 0.4371, 0.4125, 0.8067,\n",
       "          0.7683, 0.7196],\n",
       "         [0.9736, 0.3060, 0.6475, 0.0957, 0.9112, 0.5035, 0.0832, 0.3591,\n",
       "          0.8770, 0.3687],\n",
       "         [0.1929, 0.4660, 0.8266, 0.4063, 0.9708, 0.0493, 0.4026, 0.7009,\n",
       "          0.7578, 0.6336],\n",
       "         [0.5638, 0.3964, 0.8853, 0.5890, 0.3423, 0.0130, 0.5686, 0.6150,\n",
       "          0.9428, 0.3903],\n",
       "         [0.6108, 0.0307, 0.2396, 0.2219, 0.1068, 0.7007, 0.1563, 0.1164,\n",
       "          0.1224, 0.4862],\n",
       "         [0.2457, 0.5527, 0.2206, 0.7276, 0.7879, 0.6087, 0.5256, 0.7680,\n",
       "          0.5876, 0.1013],\n",
       "         [0.3889, 0.2124, 0.8039, 0.2518, 0.1967, 0.5146, 0.8305, 0.6433,\n",
       "          0.9293, 0.8078],\n",
       "         [0.3628, 0.2549, 0.0913, 0.5375, 0.0017, 0.3692, 0.8483, 0.1459,\n",
       "          0.7053, 0.9537],\n",
       "         [0.4262, 0.1809, 0.8607, 0.6198, 0.7742, 0.3232, 0.1482, 0.4839,\n",
       "          0.3857, 0.1123],\n",
       "         [0.3341, 0.1129, 0.6382, 0.2898, 0.6490, 0.4083, 0.8167, 0.4333,\n",
       "          0.4275, 0.7980]],\n",
       "\n",
       "        [[0.2954, 0.1189, 0.6915, 0.8089, 0.3781, 0.8933, 0.6308, 0.6908,\n",
       "          0.4274, 0.8301],\n",
       "         [0.4572, 0.8522, 0.6214, 0.2764, 0.9804, 0.6203, 0.5369, 0.4670,\n",
       "          0.2914, 0.6281],\n",
       "         [0.2084, 0.0324, 0.4464, 0.4714, 0.6106, 0.6371, 0.1301, 0.9092,\n",
       "          0.5937, 0.4179],\n",
       "         [0.1688, 0.5225, 0.0405, 0.0996, 0.3208, 0.5465, 0.1814, 0.7331,\n",
       "          0.3402, 0.3117],\n",
       "         [0.2354, 0.8032, 0.0284, 0.3979, 0.0364, 0.0804, 0.2127, 0.6137,\n",
       "          0.5884, 0.2242],\n",
       "         [0.8182, 0.3406, 0.9314, 0.1746, 0.8751, 0.3936, 0.9636, 0.4738,\n",
       "          0.2724, 0.3084],\n",
       "         [0.8545, 0.4953, 0.6437, 0.8118, 0.0547, 0.4806, 0.5693, 0.8858,\n",
       "          0.4361, 0.6084],\n",
       "         [0.0593, 0.5012, 0.8531, 0.7202, 0.8075, 0.4205, 0.8253, 0.8400,\n",
       "          0.7019, 0.2216],\n",
       "         [0.1946, 0.4970, 0.9592, 0.7430, 0.8900, 0.1153, 0.9690, 0.7540,\n",
       "          0.2492, 0.5332],\n",
       "         [0.2217, 0.6685, 0.7721, 0.8398, 0.4875, 0.4752, 0.3574, 0.8415,\n",
       "          0.9635, 0.1039]],\n",
       "\n",
       "        [[0.0841, 0.9834, 0.7648, 0.0310, 0.3291, 0.7295, 0.4258, 0.6392,\n",
       "          0.5835, 0.9254],\n",
       "         [0.7666, 0.6947, 0.8388, 0.1010, 0.4096, 0.2178, 0.4695, 0.8121,\n",
       "          0.5098, 0.4031],\n",
       "         [0.2301, 0.5664, 0.3583, 0.8733, 0.0481, 0.3190, 0.7726, 0.2474,\n",
       "          0.9981, 0.7533],\n",
       "         [0.8556, 0.0355, 0.8834, 0.5545, 0.8397, 0.5440, 0.1149, 0.4671,\n",
       "          0.3825, 0.4207],\n",
       "         [0.9526, 0.0096, 0.3196, 0.0899, 0.3946, 0.5513, 0.2641, 0.1740,\n",
       "          0.4374, 0.1996],\n",
       "         [0.6648, 0.1879, 0.8201, 0.4831, 0.0660, 0.2575, 0.6869, 0.0415,\n",
       "          0.9068, 0.8567],\n",
       "         [0.2285, 0.7790, 0.8966, 0.0279, 0.7079, 0.6501, 0.1810, 0.8590,\n",
       "          0.6106, 0.4781],\n",
       "         [0.4811, 0.6147, 0.9227, 0.2295, 0.0516, 0.8030, 0.4781, 0.5608,\n",
       "          0.1764, 0.2561],\n",
       "         [0.2932, 0.6166, 0.9136, 0.8691, 0.4785, 0.9788, 0.4718, 0.7653,\n",
       "          0.3604, 0.7049],\n",
       "         [0.2370, 0.1607, 0.3277, 0.5783, 0.2059, 0.7109, 0.2836, 0.0043,\n",
       "          0.1359, 0.3107]],\n",
       "\n",
       "        [[0.6548, 0.6912, 0.7164, 0.8580, 0.3285, 0.3418, 0.6216, 0.0165,\n",
       "          0.1704, 0.2254],\n",
       "         [0.9880, 0.0594, 0.1491, 0.8483, 0.8020, 0.5210, 0.2437, 0.6621,\n",
       "          0.3660, 0.2196],\n",
       "         [0.9175, 0.6280, 0.6334, 0.2008, 0.7160, 0.9734, 0.6461, 0.9548,\n",
       "          0.3412, 0.9051],\n",
       "         [0.0663, 0.5839, 0.5663, 0.8721, 0.9781, 0.7673, 0.1468, 0.9482,\n",
       "          0.6743, 0.6975],\n",
       "         [0.4928, 0.6810, 0.3236, 0.7032, 0.2029, 0.7317, 0.9277, 0.3291,\n",
       "          0.8539, 0.2081],\n",
       "         [0.7691, 0.1360, 0.9292, 0.4516, 0.3868, 0.2729, 0.7306, 0.6919,\n",
       "          0.5393, 0.4793],\n",
       "         [0.8634, 0.1801, 0.1382, 0.3944, 0.0142, 0.9593, 0.4689, 0.9666,\n",
       "          0.1033, 0.8011],\n",
       "         [0.5614, 0.8886, 0.2295, 0.4156, 0.2410, 0.6685, 0.3908, 0.1305,\n",
       "          0.4638, 0.0605],\n",
       "         [0.3316, 0.3835, 0.5291, 0.5132, 0.8966, 0.3301, 0.5427, 0.4982,\n",
       "          0.6495, 0.7088],\n",
       "         [0.1515, 0.5735, 0.0943, 0.3019, 0.8321, 0.3621, 0.9203, 0.7983,\n",
       "          0.4321, 0.5060]],\n",
       "\n",
       "        [[0.8750, 0.5003, 0.5243, 0.1744, 0.4092, 0.7475, 0.2361, 0.9775,\n",
       "          0.4629, 0.4215],\n",
       "         [0.3053, 0.9182, 0.4590, 0.3073, 0.6628, 0.4705, 0.8483, 0.7532,\n",
       "          0.9290, 0.3915],\n",
       "         [0.0911, 0.8556, 0.6008, 0.3953, 0.6531, 0.5021, 0.1793, 0.4227,\n",
       "          0.2313, 0.9048],\n",
       "         [0.6247, 0.1239, 0.3575, 0.1564, 0.8355, 0.9500, 0.0534, 0.1263,\n",
       "          0.1375, 0.2961],\n",
       "         [0.8202, 0.9475, 0.9075, 0.9372, 0.4754, 0.1089, 0.6330, 0.8722,\n",
       "          0.9288, 0.7324],\n",
       "         [0.8861, 0.8953, 0.9001, 0.0491, 0.6078, 0.7036, 0.1804, 0.6022,\n",
       "          0.6992, 0.6972],\n",
       "         [0.4107, 0.7823, 0.0590, 0.4040, 0.6452, 0.6342, 0.4227, 0.5498,\n",
       "          0.3525, 0.1063],\n",
       "         [0.6583, 0.9223, 0.4126, 0.4966, 0.0214, 0.4660, 0.6411, 0.0649,\n",
       "          0.3659, 0.5538],\n",
       "         [0.3874, 0.4732, 0.1407, 0.9791, 0.0571, 0.7009, 0.9774, 0.0184,\n",
       "          0.2020, 0.1681],\n",
       "         [0.3938, 0.0357, 0.5706, 0.8869, 0.7117, 0.2843, 0.4052, 0.1046,\n",
       "          0.7603, 0.0638]]])"
      ]
     },
     "execution_count": 23,
     "metadata": {},
     "output_type": "execute_result"
    }
   ],
   "source": [
    "random_tensor = torch.rand(10,10,10)\n",
    "random_tensor"
   ]
  },
  {
   "cell_type": "code",
   "execution_count": 24,
   "id": "6a627c1a-8c9b-4ccb-825b-56df765b5bf5",
   "metadata": {},
   "outputs": [
    {
     "name": "stdout",
     "output_type": "stream",
     "text": [
      "Here we have created a tensor of 3 dimensions and of shape torch.Size([10, 10, 10])\n"
     ]
    }
   ],
   "source": [
    "print(f'Here we have created a tensor of {random_tensor.ndim} dimensions and of shape {random_tensor.shape}')"
   ]
  },
  {
   "cell_type": "markdown",
   "id": "5dd553f5-2fce-4768-bde2-7f4b5bf81768",
   "metadata": {},
   "source": [
    "Tensors can be used to hold a wide variety of data for example we can create a tensor that would hold 1 second of video of 30 frames per second. We need to define the height and width of our video in this case 224 x 224 the number of colour channels = 3 and the number of frames = 30."
   ]
  },
  {
   "cell_type": "code",
   "execution_count": 25,
   "id": "0ce78a3b-a57d-42f7-adfe-f3a81a10cb5d",
   "metadata": {},
   "outputs": [],
   "source": [
    "random_video_size_tensor = torch.rand(size=(224,224,3,30)) "
   ]
  },
  {
   "cell_type": "code",
   "execution_count": 26,
   "id": "2d6958e9-950f-404d-8050-bc301b2e66a0",
   "metadata": {},
   "outputs": [
    {
     "name": "stdout",
     "output_type": "stream",
     "text": [
      "Our video tensor is 4 dimensions and of shape torch.Size([224, 224, 3, 30])\n"
     ]
    }
   ],
   "source": [
    "print(f'Our video tensor is {random_video_size_tensor.ndim} dimensions and of shape {random_video_size_tensor.shape}')"
   ]
  },
  {
   "cell_type": "markdown",
   "id": "e26a1c52-ea35-4357-b7a1-893e85178bd5",
   "metadata": {},
   "source": [
    "## Tensor datatypes\n",
    "The three biggest problems/bugs that any data scientist encounters from beginner to pro are: \n",
    "1. Tensors are not the right **datatype**\n",
    "2. Tensors are not the right **shape**\n",
    "3. Tensors are not on the right **device**\n",
    "\n",
    "In this section we will learn about some of these problems in order to know where to look for these types of issues."
   ]
  },
  {
   "cell_type": "code",
   "execution_count": 28,
   "id": "38491adc-6021-4b2b-92ca-81695db87500",
   "metadata": {},
   "outputs": [],
   "source": [
    "# Lets create a tensor to work with\n",
    "float_32_tensor = torch.tensor([3.0, 6.0, 9.0],\n",
    "                               dtype=None, # Here we can set the datatype for example float32 or float16\n",
    "                               device=None, # Where does your tensor live by default this is cpu but it can also be cuda for example\n",
    "                               requires_grad=False # Do we track gradients with operations on this tensor or not?\n",
    "                              )"
   ]
  },
  {
   "cell_type": "markdown",
   "id": "912cef63-9baf-4455-97bf-130102031132",
   "metadata": {},
   "source": [
    "Now we can do a few things which intuitively shouldn't work but guess what they do with tensors:"
   ]
  },
  {
   "cell_type": "code",
   "execution_count": 29,
   "id": "c66e04e9-4222-48cc-9781-62589287cd96",
   "metadata": {},
   "outputs": [],
   "source": [
    "float_16_tensor = float_32_tensor.type(torch.float16) # we can make a flaot 16 of the tensor"
   ]
  },
  {
   "cell_type": "code",
   "execution_count": 30,
   "id": "4b179ca4-700e-4484-a0a0-7da41b9e64ea",
   "metadata": {},
   "outputs": [
    {
     "data": {
      "text/plain": [
       "tensor([ 9., 36., 81.])"
      ]
     },
     "execution_count": 30,
     "metadata": {},
     "output_type": "execute_result"
    }
   ],
   "source": [
    "float_16_tensor * float_32_tensor # We can multiply different datatypes together"
   ]
  },
  {
   "cell_type": "code",
   "execution_count": 32,
   "id": "932cbff7-b7c7-4ca9-af6f-4f60c880b35a",
   "metadata": {},
   "outputs": [],
   "source": [
    "int_32_tensor = torch.tensor([3,6,9], dtype=torch.int32) # Lets make an int32 for this next trick"
   ]
  },
  {
   "cell_type": "code",
   "execution_count": 33,
   "id": "db7ec781-577f-4484-bb18-833f3bb5726b",
   "metadata": {},
   "outputs": [
    {
     "data": {
      "text/plain": [
       "tensor([ 9., 36., 81.])"
      ]
     },
     "execution_count": 33,
     "metadata": {},
     "output_type": "execute_result"
    }
   ],
   "source": [
    "float_32_tensor * int_32_tensor # This also shouldn't work but it does!"
   ]
  },
  {
   "cell_type": "code",
   "execution_count": 34,
   "id": "8dfe7f13-4c95-4c2e-b0bf-f28a7bfbd55e",
   "metadata": {},
   "outputs": [],
   "source": [
    "int_32_tensor = torch.tensor([3, 6, 9], dtype=torch.long)"
   ]
  },
  {
   "cell_type": "code",
   "execution_count": 35,
   "id": "b2f87cd0-66c1-4ec2-b1a4-a640c62ad7de",
   "metadata": {},
   "outputs": [
    {
     "data": {
      "text/plain": [
       "tensor([ 9., 36., 81.])"
      ]
     },
     "execution_count": 35,
     "metadata": {},
     "output_type": "execute_result"
    }
   ],
   "source": [
    "float_32_tensor * int_32_tensor # This also works"
   ]
  },
  {
   "cell_type": "markdown",
   "id": "7e520472-95e3-4692-ace4-3ebe9c8f8eb8",
   "metadata": {},
   "source": [
    "When you perform an operation like multiplication between tensors of different data types in PyTorch, such as a floating-point tensor (`float_32_tensor`) and an integer tensor (`int_32_tensor`), PyTorch automatically performs type promotion (also known as type casting) to ensure that the operation can proceed smoothly. Type promotion rules determine the data type of the result of an operation involving tensors of different types.\n",
    "\n",
    "Here's how it works in the context of your question:\n",
    "\n",
    "- **`float_32_tensor`**: This tensor is a floating-point data type, `torch.float32`. This data type represents 32-bit floating-point numbers.\n",
    "\n",
    "- **`int_32_tensor`**: Despite the naming, if we follow the earlier definition, this tensor is actually of type `torch.long` (or `torch.int64`), which is a 64-bit integer.\n",
    "\n",
    "- **Operation**: When you multiply these tensors (`float_32_tensor * int_32_tensor`), PyTorch automatically promotes the integer tensor to a floating-point tensor so that the operation is between two tensors of the same type (floating-point). The rules for type promotion ensure that the operation does not result in unintended data loss. In this case, the result of the multiplication will be a floating-point tensor.\n",
    "\n",
    "Type promotion is a feature designed to make tensor operations more intuitive and to prevent common mistakes that can occur when dealing with tensors of different data types. It allows for operations between tensors of different types by automatically converting them to a common type that is capable of representing the information in both tensors as accurately as possible."
   ]
  },
  {
   "cell_type": "markdown",
   "id": "df63de06-bbc7-4263-b402-e1c43e587fb9",
   "metadata": {},
   "source": [
    "## How do we extract information from tensors?\n",
    "To help us in squashing the three common bugs outined above we can extract information quite easily from our tensors using python for each of the three scenarios. \n",
    "\n",
    "1. Tensors not the right **datatype** -  to get datatype from a tensor we use `tensor.dtype`\n",
    "2. Tensors not the right **shape** - to get the shape from a tensor we use `tensor.shape`\n",
    "3. Tensors not on the right **device** - to get the device from a tensor we use `tensor.device`"
   ]
  },
  {
   "cell_type": "code",
   "execution_count": 37,
   "id": "d43f0d3c-1daf-45c9-aeb4-5dc3eaa687e0",
   "metadata": {},
   "outputs": [],
   "source": [
    "# Lets create a tensor to play with\n",
    "some_tensor = torch.rand([3,4])"
   ]
  },
  {
   "cell_type": "code",
   "execution_count": 38,
   "id": "3b291585-0c97-474f-b4cf-63b4b1e35816",
   "metadata": {},
   "outputs": [
    {
     "name": "stdout",
     "output_type": "stream",
     "text": [
      "tensor([[0.9676, 0.6742, 0.0454, 0.9786],\n",
      "        [0.1619, 0.6151, 0.4271, 0.1533],\n",
      "        [0.3807, 0.6424, 0.0373, 0.6684]])\n",
      "Datatype of tensor: torch.float32\n",
      "Shape of tensor: torch.Size([3, 4])\n",
      "Device tensor lives on: cpu\n"
     ]
    }
   ],
   "source": [
    "# Find out some details about our tensor\n",
    "print(some_tensor)\n",
    "print(f'Datatype of tensor: {some_tensor.dtype}')\n",
    "print(f'Shape of tensor: {some_tensor.shape}')\n",
    "print(f'Device tensor lives on: {some_tensor.device}')"
   ]
  },
  {
   "cell_type": "markdown",
   "id": "ae27a7b5-b28a-4cf4-baac-4b6575a4a057",
   "metadata": {},
   "source": [
    "## How do we manipulate tensors? \n",
    "\n",
    "Tensor operations are just like those associated with matrix manipulations so if you remember matrix math you can do tensor math. \n",
    "Tensor operators include:\n",
    "* Addition\n",
    "* Subtraction\n",
    "* Multiplication (element-wise)\n",
    "* Division\n",
    "* Matrix Multiplication\n",
    "\n",
    "As with many things in life there is more than one way to complete this task.  PyTorch provides some built-in functions such as `torch.add` and `torch.mul` but generally people use the python built in functions"
   ]
  },
  {
   "cell_type": "code",
   "execution_count": 43,
   "id": "19fd91f0-ab10-4326-b817-444c43cdfcd9",
   "metadata": {},
   "outputs": [
    {
     "name": "stdout",
     "output_type": "stream",
     "text": [
      "tensor([11, 12, 13])\n",
      "tensor([10, 20, 30])\n",
      "tensor([-9, -8, -7])\n"
     ]
    }
   ],
   "source": [
    "# Create a tensor\n",
    "tensor = torch.tensor([1,2,3])\n",
    "\n",
    "# Add 10 to each element\n",
    "print(tensor + 10)\n",
    "\n",
    "# Multiply each element by 10\n",
    "print(tensor * 10)\n",
    "\n",
    "# Subtract 10 from each element\n",
    "print(tensor - 10)"
   ]
  },
  {
   "cell_type": "markdown",
   "id": "c52cf006-042c-4109-bc1f-811a9f1517b8",
   "metadata": {},
   "source": [
    "## A recap of Matric Multiplication\n",
    "There are two main ways of performing multiplication on a matrix or tensor:\n",
    "\n",
    "1. Elemnent-wise multiplication\n",
    "2. Matrix multiplication (dot product)\n",
    "\n",
    "We covered element-wise multiplication above.  \n",
    "\n",
    "### Matrix multiplication\n",
    "In order to carry out matrix multiplication two rules need to be satisfied:\n",
    "1. The inner dimensions of the matrix must match\n",
    "   * `(3,2) @ (3,2)` **Will not** work\n",
    "   * `(2,3) @ (3,2)` **Will** work\n",
    "   * `(3,2) @ (2,3)` **Will** work\n",
    "     \n",
    "  \n",
    "2. The resulting matrix has the shape of the outer dimensions:\n",
    "   * `(2,3) @ (3,2)` -> (2,2)\n",
    "   * `(3,2) @ (2,3)` -> (3,3)re re\n",
    "  "
   ]
  },
  {
   "cell_type": "markdown",
   "id": "a44875f6-1b1b-452f-b96c-c022ae2609a8",
   "metadata": {},
   "source": [
    "### Recap of Matrix's\n",
    "The matrix below $A$ has $2$ rows and $3$ columns.  The element $a_{2,1}$ is the entry in the second row of the first column of matrix $A$ = 5\n",
    "\n",
    "$$ A = \\begin{bmatrix}-2 & 5 & 6 \\\\ 5 & 2 & 7\\end{bmatrix}$$\n",
    "\n",
    "#### Scalar multiplication\n",
    "\n",
    "When we work with matrixes real numbers are referd to as **scalars**.\n",
    "\n",
    "$$ 2 \\cdot \\begin{bmatrix}5 & 2 \\\\ 3 & 1\\end{bmatrix} = \\begin{bmatrix} 2\\cdot 5 & 2 \\cdot 2 \\\\ 2 \\cdot 3 & 2 \\cdot 1\\end{bmatrix} $$\n",
    "\n",
    "Scalar multiplication refers to thee product of a real number and a matrix. In this case **each** entry in the matrix is multiplied by the given scalar.\n",
    "\n",
    "This differs from matrix multiplication which refers to the product of two matrices.  \n",
    "\n",
    "\n",
    "#### $n$-tuples and the dot product\n",
    "Ordered pairs and even ordered triples are noted as $(2,5)$ and $(3,1,8)$ respectively.  An $n-$tuple is a generalization of this. It is an ordered list of $n$ numbers. The **dot product** of two $n-$tuples of equal length is found by summing the products of the corresponding entires.\n",
    "\n",
    "$e.g.$ find the dot product of $(2,5) \\cdot (3,1)$:\n",
    "$$ (\\textcolor{purple}2,\\textcolor{green}5) \\cdot (\\textcolor{purple}3,\\textcolor{green}1) = \\textcolor{purple}{2 \\cdot 3} + \\textcolor{green}{5 \\cdot 1} $$ $$= 6 + 5$$ $$=11 $$\n",
    "\n",
    "Ordered $n-$tuples are indicated by a variable with an arrow over the top. For example $\\overrightarrow a = (3,1,8)$ and $\\overrightarrow b = (4,2,3)$.  The dot product is calculated as follows:\n",
    "\n",
    "$$ \\overrightarrow a \\cdot \\overrightarrow b = (\\textcolor{purple}3,\\textcolor{green}1,\\textcolor{magenta}8) \\cdot (\\textcolor{purple}4,\\textcolor{green}2,\\textcolor{magenta}3)$$\n",
    "$$= \\textcolor{purple}{3 \\cdot 4} + \\textcolor{green}{1 \\cdot 2} + \\textcolor{magenta}{8 \\cdot 3}$$\n",
    "$$=12 + 2 + 24$$\n",
    "$$=38$$\n",
    "\n",
    "*Note:*  The dot product of two $n-$tuples of equal length is always a single real number."
   ]
  },
  {
   "cell_type": "markdown",
   "id": "a9d5f8cc-f438-4473-b7a2-b45402e622ef",
   "metadata": {},
   "source": [
    "#### $n-$tuples and Matrices\n",
    "\n",
    "When considering matritices for multiplication each row and column can be considered as an $n-$tuple\n",
    "\n",
    "$$\n",
    "\\begin{array}{cc}\n",
    "& \\textcolor{olive}{\\overrightarrow{c_1} \\quad \\overrightarrow{c_2}}\\\\\n",
    "& \\textcolor{olive}{\\downarrow \\quad \\downarrow} \\\\\n",
    "\\begin{array}{c}\n",
    "\\textcolor{teal}{\\overrightarrow{r_1} \\quad \\rightarrow} \\\\\n",
    "\\textcolor{teal}{\\overrightarrow{r_2} \\quad \\rightarrow}\n",
    "\\end{array} &\n",
    "\\begin{bmatrix}\n",
    "6 & 2 \\\\\n",
    "4 & 3\n",
    "\\end{bmatrix}\n",
    "\\end{array}\n",
    "$$\n",
    "\n",
    "Thus in this example:\n",
    "\n",
    "Row 1 is denoted by the ordered pair $\\textcolor{teal}{\\overrightarrow{r_1}}=(6,2)$ and row 2 is denoted by the ordered pair $\\textcolor{teal}{\\overrightarrow{r_2}}=(4,3)$. \n",
    "\n",
    "Columns are similarly notated $\\textcolor{olive}{\\overrightarrow{c_1}}=(6,4)$ represents column 1 and $\\textcolor{olive}{\\overrightarrow{c_2}}=(2,3)$ represents column 2.\n"
   ]
  },
  {
   "cell_type": "markdown",
   "id": "c371153a-1ba7-4cc1-9f64-33cbc51c42d6",
   "metadata": {},
   "source": [
    "### Matrix multiplication\n",
    "\n",
    "Taking the following example we will work through matrix multiplication. \n",
    "\n",
    "Given $A = \\begin{bmatrix} 1 & 7 \\\\ 2 & 4 \\end{bmatrix}$ and $B = \\begin{bmatrix} 3 & 3 \\\\ 5 & 2 \\end{bmatrix}$ find $C = AB$.\n",
    "\n",
    "Lets split is up into rows and columns as before rows in matrix $A$ and columns in matrix $B$.  We define matrix $C$ below:\n",
    "$$\\begin{array}{ccc}\n",
    "& \\textcolor{olive}{\\quad \\quad \\quad \\quad \\overrightarrow{b_1} \\quad \\overrightarrow{b_2}}\\\\\n",
    "& \\textcolor{olive}{\\quad \\quad \\quad \\quad \\downarrow \\quad \\downarrow} \\\\\n",
    "\\begin{array}{c}\n",
    "\\textcolor{teal}{\\overrightarrow{a_1} \\quad \\rightarrow} \\\\\n",
    "\\textcolor{teal}{\\overrightarrow{a_2} \\quad \\rightarrow}\n",
    "\\end{array} &\n",
    "\\begin{bmatrix}\n",
    "1 & 7 \\\\\n",
    "2 & 4\n",
    "\\end{bmatrix} \\cdot\n",
    "\\begin{bmatrix}\n",
    "1 & 7 \\\\\n",
    "2 & 4\n",
    "\\end{bmatrix} & = \\begin{bmatrix}\n",
    "\\textcolor{teal}{\\overrightarrow{a_1}} \\cdot \\textcolor{olive}{\\overrightarrow{b_1}} & \\textcolor{teal}{\\overrightarrow{a_1}} \\cdot \\textcolor{olive}{\\overrightarrow{b_2}} \\\\\n",
    "\\textcolor{teal}{\\overrightarrow{a_2}} \\cdot \\textcolor{olive}{\\overrightarrow{b_1}} & \\textcolor{teal}{\\overrightarrow{a_2}} \\cdot \\textcolor{olive}{\\overrightarrow{b_2}}\n",
    "\\end{bmatrix}\n",
    "\\end{array}$$\n",
    "$$\\quad \\; A \\quad \\quad \\quad B \\quad \\quad \\quad \\quad \\quad \\quad C $$\n",
    "\n",
    "Each entry in C is the dot product of a row in matrix $A$ and a column in matrix $B$.\n",
    "We can write this more generally as the element $c_{\\textcolor{olive}i,\\textcolor{teal}j}$ is the dot product of $\\textcolor{teal}{\\overrightarrow{a_i}}$ and $\\textcolor{olive}{\\overrightarrow{b_j}}$."
   ]
  }
 ],
 "metadata": {
  "kernelspec": {
   "display_name": "Python 3 (ipykernel)",
   "language": "python",
   "name": "python3"
  },
  "language_info": {
   "codemirror_mode": {
    "name": "ipython",
    "version": 3
   },
   "file_extension": ".py",
   "mimetype": "text/x-python",
   "name": "python",
   "nbconvert_exporter": "python",
   "pygments_lexer": "ipython3",
   "version": "3.10.12"
  }
 },
 "nbformat": 4,
 "nbformat_minor": 5
}
